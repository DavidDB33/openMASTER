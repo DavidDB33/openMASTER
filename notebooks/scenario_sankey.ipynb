{
 "cells": [
  {
   "attachments": {},
   "cell_type": "markdown",
   "metadata": {},
   "source": [
    "### **Imports**"
   ]
  },
  {
   "cell_type": "code",
   "execution_count": null,
   "metadata": {},
   "outputs": [],
   "source": [
    "import pandas as pd\n",
    "import os\n",
    "\n",
    "from charts_.sankey import create_sankey_diagram"
   ]
  },
  {
   "attachments": {},
   "cell_type": "markdown",
   "metadata": {},
   "source": [
    "### **Paths**"
   ]
  },
  {
   "cell_type": "code",
   "execution_count": null,
   "metadata": {},
   "outputs": [],
   "source": [
    "MAPPINGS_DATA_PATH = \"./data/mappings\"\n",
    "INPUT_DATA_PATH = \"./data/input\"\n",
    "OUTPUT_DATA_PATH = \"./data/output\""
   ]
  },
  {
   "attachments": {},
   "cell_type": "markdown",
   "metadata": {},
   "source": [
    "### **Functions**"
   ]
  },
  {
   "cell_type": "code",
   "execution_count": null,
   "metadata": {},
   "outputs": [],
   "source": [
    "def sum_values_by_technology(df, selected_year, pe_column, ce_column, value_column):\n",
    "    # Select rows for the specified year\n",
    "    df_selected_year = df[df['sYear'] == selected_year]\n",
    "\n",
    "    # Sum values by Technology and specified columns\n",
    "    sum_by_technology = df_selected_year.groupby([pe_column, ce_column])[value_column].sum().reset_index()\n",
    "\n",
    "    return sum_by_technology"
   ]
  },
  {
   "attachments": {},
   "cell_type": "markdown",
   "metadata": {},
   "source": [
    "### **Data Preprocessing**"
   ]
  },
  {
   "attachments": {},
   "cell_type": "markdown",
   "metadata": {},
   "source": [
    "**Set Mappings**"
   ]
  },
  {
   "cell_type": "code",
   "execution_count": null,
   "metadata": {},
   "outputs": [],
   "source": [
    "sPE = pd.read_csv(MAPPINGS_DATA_PATH + \"/sPE_mapping.csv\")\n",
    "SPE_dict = dict(zip(sPE['SPE'].values, sPE['DESCRIPTION'].values))\n",
    "\n",
    "CEPri = pd.read_csv(MAPPINGS_DATA_PATH + \"/CEPri_mapping.csv\")\n",
    "CEPri_dict = dict(zip(CEPri['SCE'].values, CEPri['Technology'].values))\n",
    "\n",
    "CESec = pd.read_csv(MAPPINGS_DATA_PATH + \"/CESec_mapping.csv\")\n",
    "CESec_dict = dict(zip(CESec['SCE'].values, CESec['Technology'].values))\n",
    "\n",
    "TE = pd.read_csv(MAPPINGS_DATA_PATH + \"/TE_mapping.csv\")\n",
    "TE_dict = dict(zip(TE['TE'].values, TE['Fuel'].values))\n",
    "\n",
    "def assign_sector(sST):\n",
    "    if sST.startswith(\"sST_DSTRA\"):\n",
    "        return \"Transportation\"\n",
    "    elif sST.startswith(\"sST_DSIND\"):\n",
    "        return \"Industry\"\n",
    "    elif sST.startswith(\"sST_DSOTH\"):\n",
    "        return \"Residential and Commercial\"\n",
    "    else:\n",
    "        return \"Other\"\n",
    "    \n",
    "ST = pd.read_csv(os.path.join(INPUT_DATA_PATH,\"sST.csv\"))\n",
    "ST[\"Sector\"] =  ST[\"sST\"].apply(assign_sector)\n",
    "ST_dict = dict(zip(ST['sST'].values, ST['Sector'].values))"
   ]
  },
  {
   "cell_type": "code",
   "execution_count": null,
   "metadata": {},
   "outputs": [],
   "source": [
    "selected_year = \"2030\""
   ]
  },
  {
   "attachments": {},
   "cell_type": "markdown",
   "metadata": {},
   "source": [
    "# **ENERGY Sankey**"
   ]
  },
  {
   "attachments": {},
   "cell_type": "markdown",
   "metadata": {},
   "source": [
    "**PE-CEPri** / **CEPri-TE**"
   ]
  },
  {
   "cell_type": "code",
   "execution_count": null,
   "metadata": {},
   "outputs": [],
   "source": [
    "# PE - CEPRI\n",
    "# ==========\n",
    "vQCEPriIN = pd.read_csv(os.path.join(OUTPUT_DATA_PATH,\"vQCEPriIN.csv\"))\n",
    "vQCEPriIN['DESCRIPTION'] = vQCEPriIN['sPE'].map(SPE_dict)\n",
    "vQCEPriIN['Technology'] = vQCEPriIN['sCE'].map(CEPri_dict)\n",
    "vQCEPriIN['sYear'] = vQCEPriIN['sYear'].str[1:]\n",
    "\n",
    "pe_cepri= sum_values_by_technology(vQCEPriIN, selected_year, \"DESCRIPTION\", \"Technology\", \"vQCEPriIN\")\n",
    "\n",
    "# CEPRI - TE\n",
    "# ==========\n",
    "vQCEPriOUT = pd.read_csv(os.path.join(OUTPUT_DATA_PATH,\"vQCEPriOUT.csv\"))\n",
    "vQCEPriOUT['Fuel'] = vQCEPriOUT['sTE'].map(TE_dict)\n",
    "vQCEPriOUT['Technology'] = vQCEPriOUT['sCE'].map(CEPri_dict)\n",
    "vQCEPriOUT['sYear'] = vQCEPriOUT['sYear'].str[1:]\n",
    "\n",
    "cepri_te= sum_values_by_technology(vQCEPriOUT, selected_year, \"Fuel\", \"Technology\", \"vQCEPriOUT\")"
   ]
  },
  {
   "cell_type": "code",
   "execution_count": null,
   "metadata": {},
   "outputs": [],
   "source": [
    "# Dummies\n",
    "# =======\n",
    "pe_cepri_dummy = pe_cepri[pe_cepri[\"Technology\"].str.contains(\"Dummy\")]\n",
    "cepri_te_dummy = cepri_te[cepri_te[\"Technology\"].str.contains(\"Dummy\")]\n",
    "\n",
    "cepri_dummy = pd.merge(pe_cepri_dummy,cepri_te_dummy, on =\"Technology\")[[\"DESCRIPTION\", \"Fuel\", \"vQCEPriIN\"]]\n",
    "\n",
    "# Dummy Nodes\n",
    "cepri_dummy_nodes = list(cepri_dummy['DESCRIPTION'].values)\n",
    "cepri_dummy_nodes.extend(list(cepri_dummy['Fuel'].values))\n",
    "cepri_dummy_values = list(cepri_dummy['vQCEPriIN'].values)"
   ]
  },
  {
   "cell_type": "code",
   "execution_count": null,
   "metadata": {},
   "outputs": [],
   "source": [
    "# No Dummies\n",
    "# ==========\n",
    "pe_cepri = pe_cepri[~pe_cepri[\"Technology\"].str.contains(\"Dummy\")]\n",
    "cepri_te = cepri_te[~cepri_te[\"Technology\"].str.contains(\"Dummy\")]\n",
    "\n",
    "# No Dummy Nodes\n",
    "pe_cepri_nodes = list(pe_cepri['DESCRIPTION'].values)\n",
    "pe_cepri_nodes.extend(list(pe_cepri['Technology'].values))\n",
    "pe_cepri_values = list(pe_cepri['vQCEPriIN'].values)\n",
    "\n",
    "cepri_te_nodes = list(cepri_te['Fuel'].values)\n",
    "cepri_te_nodes.extend(list(cepri_te['Technology'].values))\n",
    "cepri_te_values = list(cepri_te['vQCEPriOUT'].values)"
   ]
  },
  {
   "attachments": {},
   "cell_type": "markdown",
   "metadata": {},
   "source": [
    "**TE-CESec**"
   ]
  },
  {
   "cell_type": "code",
   "execution_count": null,
   "metadata": {},
   "outputs": [],
   "source": [
    "vQCESecIn = pd.read_csv(os.path.join(OUTPUT_DATA_PATH,\"vQCESecIn.csv\"))\n",
    "vQCESecIn['Fuel'] = vQCESecIn['sTE'].map(TE_dict)\n",
    "vQCESecIn['Technology'] = vQCESecIn['sCE'].map(CESec_dict)\n",
    "vQCESecIn['sYear'] = vQCESecIn['sYear'].str[1:]\n",
    "\n",
    "te_cesec = sum_values_by_technology(vQCESecIn, selected_year, \"Technology\", \"Fuel\", \"vQCESecIN\")"
   ]
  },
  {
   "cell_type": "code",
   "execution_count": null,
   "metadata": {},
   "outputs": [],
   "source": [
    "te_cesec_nodes = list(te_cesec['Fuel'].values)\n",
    "te_cesec_nodes.extend(list(te_cesec['Technology'].values))\n",
    "\n",
    "te_cesec_values = list(te_cesec['vQCESecIN'].values)"
   ]
  },
  {
   "attachments": {},
   "cell_type": "markdown",
   "metadata": {},
   "source": [
    "**CESec-TE**"
   ]
  },
  {
   "cell_type": "code",
   "execution_count": null,
   "metadata": {},
   "outputs": [],
   "source": [
    "vQCESecOut = pd.read_csv(os.path.join(OUTPUT_DATA_PATH,\"vQCESecOut.csv\"))\n",
    "vQCESecOut['Fuel'] = vQCESecOut['sTE'].map(TE_dict)\n",
    "vQCESecOut['Technology'] = vQCESecOut['sCE'].map(CESec_dict)\n",
    "vQCESecOut['sYear'] = vQCESecOut['sYear'].str[1:]\n",
    "\n",
    "cesec_te = sum_values_by_technology(vQCESecOut, selected_year, \"Technology\", \"Fuel\", \"vQCESecOUT\")"
   ]
  },
  {
   "cell_type": "code",
   "execution_count": null,
   "metadata": {},
   "outputs": [],
   "source": [
    "cesec_te_nodes = list(cesec_te['Technology'].values)\n",
    "cesec_te_nodes.extend(list(cesec_te['Fuel'].values))\n",
    "\n",
    "cesec_te_values = list(cesec_te['vQCESecOUT'].values)"
   ]
  },
  {
   "attachments": {},
   "cell_type": "markdown",
   "metadata": {},
   "source": [
    "**TE-CE_Sto**"
   ]
  },
  {
   "cell_type": "code",
   "execution_count": null,
   "metadata": {},
   "outputs": [],
   "source": [
    "vQCEStoIn = pd.read_csv(os.path.join(OUTPUT_DATA_PATH,\"vQCEStoIn.csv\"))\n",
    "vQCEStoIn['Fuel'] = vQCEStoIn['sTE'].map(TE_dict)\n",
    "vQCEStoIn['Technology'] = vQCEStoIn['sCE'].map(CESec_dict)\n",
    "vQCEStoIn['sYear'] = vQCEStoIn['sYear'].str[1:]\n",
    "\n",
    "te_cesto = sum_values_by_technology(vQCEStoIn, selected_year, \"Technology\", \"Fuel\", \"vQCEStoIN\")"
   ]
  },
  {
   "cell_type": "code",
   "execution_count": null,
   "metadata": {},
   "outputs": [],
   "source": [
    "te_cesto_nodes = list(te_cesto['Technology'].values)\n",
    "te_cesto_nodes.extend(list(te_cesto['Fuel'].values))\n",
    "\n",
    "te_cesto_values = list(te_cesto['vQCEStoIN'].values)"
   ]
  },
  {
   "attachments": {},
   "cell_type": "markdown",
   "metadata": {},
   "source": [
    "**CE_Sto-TE**"
   ]
  },
  {
   "cell_type": "code",
   "execution_count": null,
   "metadata": {},
   "outputs": [],
   "source": [
    "vQCEStoOut = pd.read_csv(os.path.join(OUTPUT_DATA_PATH,\"vQCEStoOut.csv\"))\n",
    "vQCEStoOut['Fuel'] = vQCEStoOut['sTE'].map(TE_dict)\n",
    "vQCEStoOut['Technology'] = vQCEStoOut['sCE'].map(CESec_dict)\n",
    "vQCEStoOut['sYear'] = vQCEStoOut['sYear'].str[1:]\n",
    "\n",
    "cesto_te = sum_values_by_technology(vQCEStoOut, selected_year, \"Technology\", \"Fuel\", \"vQCEStoOUT\")"
   ]
  },
  {
   "cell_type": "code",
   "execution_count": null,
   "metadata": {},
   "outputs": [],
   "source": [
    "cesto_te_nodes = list(cesto_te['Technology'].values)\n",
    "cesto_te_nodes.extend(list(cesto_te['Fuel'].values))\n",
    "\n",
    "cesto_te_values = list(cesto_te['vQCEStoOUT'].values)"
   ]
  },
  {
   "attachments": {},
   "cell_type": "markdown",
   "metadata": {},
   "source": [
    "**TE-ST**"
   ]
  },
  {
   "cell_type": "code",
   "execution_count": null,
   "metadata": {},
   "outputs": [],
   "source": [
    "vQSTInTE = pd.read_csv(os.path.join(OUTPUT_DATA_PATH,\"vQSTInTE.csv\"))\n",
    "vQSTInTE['Fuel'] = vQSTInTE['sTE'].map(TE_dict)\n",
    "vQSTInTE['Sector'] = vQSTInTE['sST'].map(ST_dict)\n",
    "vQSTInTE['sYear'] = vQSTInTE['sYear'].str[1:]\n",
    "vQSTInTE.rename(columns={\"vQSTInTE\": \"value\"}, inplace=True)\n",
    "\n",
    "te_st = sum_values_by_technology(vQSTInTE, selected_year, \"Fuel\", \"Sector\", \"value\")"
   ]
  },
  {
   "cell_type": "code",
   "execution_count": null,
   "metadata": {},
   "outputs": [],
   "source": [
    "te_st_nodes = list(te_st['Fuel'].values)\n",
    "te_st_nodes.extend(list(te_st['Sector'].values))\n",
    "\n",
    "te_st_values = list(te_st['value'].values)"
   ]
  },
  {
   "attachments": {},
   "cell_type": "markdown",
   "metadata": {},
   "source": [
    "### Plot Preparation"
   ]
  },
  {
   "cell_type": "code",
   "execution_count": null,
   "metadata": {},
   "outputs": [],
   "source": [
    "node_labels = list(set(pe_cepri_nodes + cepri_te_nodes + te_cesec_nodes + cesec_te_nodes + te_cesto_nodes + cesto_te_nodes + te_st_nodes + cepri_dummy_nodes))\n",
    "link_values = pe_cepri_values + cepri_te_values + te_cesec_values + cesec_te_values + te_cesto_values + cesto_te_values + te_st_values + cepri_dummy_values"
   ]
  },
  {
   "cell_type": "code",
   "execution_count": null,
   "metadata": {},
   "outputs": [],
   "source": [
    "link_sources = []\n",
    "link_targets = []\n",
    "\n",
    "for i in range(len(pe_cepri_values)):\n",
    "    link_sources.append(node_labels.index(list(pe_cepri['DESCRIPTION'].values)[i]))\n",
    "    link_targets.append(node_labels.index(list(pe_cepri['Technology'].values)[i]))\n",
    "\n",
    "for i in range(len(cepri_te_values)):\n",
    "    link_sources.append(node_labels.index(list(cepri_te['Technology'].values)[i]))\n",
    "    link_targets.append(node_labels.index(list(cepri_te['Fuel'].values)[i]))\n",
    "\n",
    "for i in range(len(te_cesec_values)):\n",
    "    link_sources.append(node_labels.index(list(te_cesec['Fuel'].values)[i]))\n",
    "    link_targets.append(node_labels.index(list(te_cesec['Technology'].values)[i]))\n",
    "\n",
    "for i in range(len(cesec_te_values)):\n",
    "    link_sources.append(node_labels.index(list(cesec_te['Technology'].values)[i]))\n",
    "    link_targets.append(node_labels.index(list(cesec_te['Fuel'].values)[i]))\n",
    "\n",
    "for i in range(len(te_cesto_values)):\n",
    "    link_sources.append(node_labels.index(list(te_cesto['Fuel'].values)[i]))\n",
    "    link_targets.append(node_labels.index(list(te_cesto['Technology'].values)[i]))\n",
    "\n",
    "for i in range(len(cesto_te_values)):\n",
    "    link_sources.append(node_labels.index(list(cesto_te['Technology'].values)[i]))\n",
    "    link_targets.append(node_labels.index(list(cesto_te['Fuel'].values)[i]))\n",
    "\n",
    "for i in range(len(te_st_values)):\n",
    "    link_sources.append(node_labels.index(list(te_st['Fuel'].values)[i]))\n",
    "    link_targets.append(node_labels.index(list(te_st['Sector'].values)[i]))\n",
    "\n",
    "for i in range(len(cepri_dummy_values)):\n",
    "    link_sources.append(node_labels.index(list(cepri_dummy['DESCRIPTION'].values)[i]))\n",
    "    link_targets.append(node_labels.index(list(cepri_dummy['Fuel'].values)[i]))"
   ]
  },
  {
   "cell_type": "code",
   "execution_count": null,
   "metadata": {},
   "outputs": [],
   "source": [
    "red_mappings= list(SPE_dict.values()) + list(TE_dict.values())\n",
    "node_colors = ['rgba(255,0,0,0.8)' if node in red_mappings else 'rgba(0,255,0,0.8)' for node in node_labels]"
   ]
  },
  {
   "cell_type": "code",
   "execution_count": null,
   "metadata": {},
   "outputs": [],
   "source": [
    "node_colors = node_colors.copy()\n",
    "link_colors = [\"rgba(0,0,96,0.2)\"] * len(link_values)\n",
    "link_labels = [\"\"] * len(link_values)\n",
    "\n",
    "sankey_data = {}\n",
    "sankey_data['node_labels'] = node_labels\n",
    "sankey_data['node_colors'] = node_colors\n",
    "sankey_data['link_sources'] = link_sources\n",
    "sankey_data['link_targets'] = link_targets\n",
    "sankey_data['link_values'] = link_values\n",
    "sankey_data['link_colors'] = link_colors\n",
    "sankey_data['link_labels'] = link_labels"
   ]
  },
  {
   "cell_type": "code",
   "execution_count": null,
   "metadata": {},
   "outputs": [],
   "source": [
    "import json\n",
    "with open('sankey_data.json', 'w') as f:\n",
    "    json.dump(sankey_data, f)"
   ]
  },
  {
   "attachments": {},
   "cell_type": "markdown",
   "metadata": {},
   "source": [
    "### **Plot**"
   ]
  },
  {
   "cell_type": "code",
   "execution_count": null,
   "metadata": {},
   "outputs": [],
   "source": [
    "create_sankey_diagram(link_sources, link_targets, link_values, node_labels, link_labels, node_colors, link_colors)"
   ]
  },
  {
   "attachments": {},
   "cell_type": "markdown",
   "metadata": {},
   "source": [
    "# **Emissions Sankey**"
   ]
  },
  {
   "attachments": {},
   "cell_type": "markdown",
   "metadata": {},
   "source": [
    "**PE-CEPri**"
   ]
  },
  {
   "cell_type": "code",
   "execution_count": null,
   "metadata": {},
   "outputs": [],
   "source": [
    "# PE - CEPRI\n",
    "# ==========\n",
    "vEmiCO2CEPri = pd.read_csv(os.path.join(OUTPUT_DATA_PATH,\"vEmiCO2CEPri.csv\"))\n",
    "vEmiCO2CEPri['DESCRIPTION'] = vEmiCO2CEPri['sPE'].map(SPE_dict)\n",
    "vEmiCO2CEPri['Technology'] = vEmiCO2CEPri['sCE'].map(CEPri_dict)\n",
    "vEmiCO2CEPri['sYear'] = vEmiCO2CEPri['sYear'].str[1:]\n",
    "\n",
    "selected_year = \"2020\"\n",
    "pe_cepri= sum_values_by_technology(vEmiCO2CEPri, selected_year, \"DESCRIPTION\", \"Technology\", \"vEmiCO2CEPri\")"
   ]
  },
  {
   "cell_type": "code",
   "execution_count": null,
   "metadata": {},
   "outputs": [],
   "source": [
    "pe_cepri_nodes = list(pe_cepri['DESCRIPTION'].values)\n",
    "pe_cepri_nodes.extend(list(pe_cepri['Technology'].values))\n",
    "pe_cepri_values = list(pe_cepri['vEmiCO2CEPri'].values)"
   ]
  },
  {
   "attachments": {},
   "cell_type": "markdown",
   "metadata": {},
   "source": [
    "**TE-CESec**"
   ]
  },
  {
   "cell_type": "code",
   "execution_count": null,
   "metadata": {},
   "outputs": [],
   "source": [
    "vEmiCO2CESec = pd.read_csv(os.path.join(OUTPUT_DATA_PATH,\"vEmiCO2CESec.csv\"))\n",
    "vEmiCO2CESec['Fuel'] = vEmiCO2CESec['sTE'].map(TE_dict)\n",
    "vEmiCO2CESec['Technology'] = vEmiCO2CESec['sCE'].map(CESec_dict)\n",
    "vEmiCO2CESec['sYear'] = vEmiCO2CESec['sYear'].str[1:]\n",
    "\n",
    "te_cesec = sum_values_by_technology(vEmiCO2CESec, selected_year, \"Technology\", \"Fuel\", \"vEmiCO2CESec\")"
   ]
  },
  {
   "cell_type": "code",
   "execution_count": null,
   "metadata": {},
   "outputs": [],
   "source": [
    "te_cesec_nodes = list(te_cesec['Fuel'].values)\n",
    "te_cesec_nodes.extend(list(te_cesec['Technology'].values))\n",
    "\n",
    "te_cesec_values = list(te_cesec['vEmiCO2CESec'].values)"
   ]
  },
  {
   "attachments": {},
   "cell_type": "markdown",
   "metadata": {},
   "source": [
    "**TE-CE_Sto**"
   ]
  },
  {
   "cell_type": "code",
   "execution_count": null,
   "metadata": {},
   "outputs": [],
   "source": [
    "vEmiCO2CESto = pd.read_csv(os.path.join(OUTPUT_DATA_PATH,\"vEmiCO2CESto.csv\"))\n",
    "vEmiCO2CESto['Fuel'] = vEmiCO2CESto['sTE'].map(TE_dict)\n",
    "vEmiCO2CESto['Technology'] = vEmiCO2CESto['sCE'].map(CESec_dict)\n",
    "vEmiCO2CESto['sYear'] = vEmiCO2CESto['sYear'].str[1:]\n",
    "\n",
    "te_cesto = sum_values_by_technology(vEmiCO2CESto, selected_year, \"Technology\", \"Fuel\", \"vEmiCO2CESto\")"
   ]
  },
  {
   "cell_type": "code",
   "execution_count": null,
   "metadata": {},
   "outputs": [],
   "source": [
    "te_cesto_nodes = list(te_cesto['Technology'].values)\n",
    "te_cesto_nodes.extend(list(te_cesto['Fuel'].values))\n",
    "\n",
    "te_cesto_values = list(te_cesto['vEmiCO2CESto'].values)"
   ]
  },
  {
   "attachments": {},
   "cell_type": "markdown",
   "metadata": {},
   "source": [
    "**TE-ST**"
   ]
  },
  {
   "cell_type": "code",
   "execution_count": null,
   "metadata": {},
   "outputs": [],
   "source": []
  },
  {
   "attachments": {},
   "cell_type": "markdown",
   "metadata": {},
   "source": [
    "### Plot Preparation"
   ]
  },
  {
   "cell_type": "code",
   "execution_count": null,
   "metadata": {},
   "outputs": [],
   "source": [
    "node_labels = list(set(pe_cepri_nodes + te_cesec_nodes + te_cesto_nodes))\n",
    "link_values = pe_cepri_values + te_cesec_values + te_cesto_values"
   ]
  },
  {
   "cell_type": "code",
   "execution_count": null,
   "metadata": {},
   "outputs": [],
   "source": [
    "link_sources = []\n",
    "link_targets = []\n",
    "\n",
    "for i in range(len(pe_cepri_values)):\n",
    "    link_sources.append(node_labels.index(list(pe_cepri['DESCRIPTION'].values)[i]))\n",
    "    link_targets.append(node_labels.index(list(pe_cepri['Technology'].values)[i]))\n",
    "\n",
    "for i in range(len(te_cesec_values)):\n",
    "    link_sources.append(node_labels.index(list(te_cesec['Fuel'].values)[i]))\n",
    "    link_targets.append(node_labels.index(list(te_cesec['Technology'].values)[i]))\n",
    "\n",
    "for i in range(len(te_cesto_values)):\n",
    "    link_sources.append(node_labels.index(list(te_cesto['Fuel'].values)[i]))\n",
    "    link_targets.append(node_labels.index(list(te_cesto['Technology'].values)[i]))"
   ]
  },
  {
   "cell_type": "code",
   "execution_count": null,
   "metadata": {},
   "outputs": [],
   "source": [
    "red_mappings= list(SPE_dict.values()) + list(TE_dict.values())\n",
    "node_colors = ['rgba(255,0,0,0.8)' if node in red_mappings else 'rgba(0,255,0,0.8)' for node in node_labels]"
   ]
  },
  {
   "cell_type": "code",
   "execution_count": null,
   "metadata": {},
   "outputs": [],
   "source": [
    "node_colors = node_colors.copy()\n",
    "link_colors = [\"rgba(0,0,96,0.2)\"] * len(link_values)\n",
    "link_labels = [\"\"] * len(link_values)\n",
    "\n",
    "sankey_data = {}\n",
    "sankey_data['node_labels'] = node_labels\n",
    "sankey_data['node_colors'] = node_colors\n",
    "sankey_data['link_sources'] = link_sources\n",
    "sankey_data['link_targets'] = link_targets\n",
    "sankey_data['link_values'] = link_values\n",
    "sankey_data['link_colors'] = link_colors\n",
    "sankey_data['link_labels'] = link_labels"
   ]
  },
  {
   "cell_type": "code",
   "execution_count": null,
   "metadata": {},
   "outputs": [],
   "source": [
    "create_sankey_diagram(link_sources, link_targets, link_values, node_labels, link_labels, node_colors, link_colors)"
   ]
  }
 ],
 "metadata": {
  "kernelspec": {
   "display_name": "Python 3 (ipykernel)",
   "language": "python",
   "name": "python3"
  },
  "language_info": {
   "codemirror_mode": {
    "name": "ipython",
    "version": 3
   },
   "file_extension": ".py",
   "mimetype": "text/x-python",
   "name": "python",
   "nbconvert_exporter": "python",
   "pygments_lexer": "ipython3",
   "version": "3.10.12"
  }
 },
 "nbformat": 4,
 "nbformat_minor": 4
}
